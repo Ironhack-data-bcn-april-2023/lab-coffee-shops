{
 "cells": [
  {
   "cell_type": "markdown",
   "id": "0809e785",
   "metadata": {},
   "source": [
    "# 1. Read your exported json file from the data folder"
   ]
  },
  {
   "cell_type": "code",
   "execution_count": 1,
   "id": "9b373771",
   "metadata": {},
   "outputs": [
    {
     "name": "stdout",
     "output_type": "stream",
     "text": [
      "{'results': [{'fsq_id': '4c9b0a2cd4b1b1f7ad69d535', 'categories': [{'id': 13035, 'name': 'Coffee Shop', 'icon': {'prefix': 'https://ss3.4sqi.net/img/categories_v2/food/coffeeshop_', 'suffix': '.png'}}], 'chains': [{'id': 'ab4c54c0-d68a-012e-5619-003048cad9da', 'name': 'Starbucks'}], 'distance': 823, 'geocodes': {'main': {'latitude': 41.404985, 'longitude': 2.192439}, 'roof': {'latitude': 41.404985, 'longitude': 2.192439}}, 'link': '/v3/places/4c9b0a2cd4b1b1f7ad69d535', 'location': {'address': 'Avinguda Diagonal, 208', 'address_extended': 'Westfield Glòries', 'admin_region': 'Cataluña', 'country': 'ES', 'cross_street': 'Westfield Glòries', 'formatted_address': 'Avinguda Diagonal, 208 (Westfield Glòries), 08018 Barcelona Catalonia', 'locality': 'Barcelona', 'postcode': '08018', 'region': 'Catalonia'}, 'name': 'Starbucks', 'related_places': {'parent': {'fsq_id': '4cb0831839458cfa814a03a0', 'name': 'Glòries Multicines'}}, 'timezone': 'Europe/Madrid'}, {'fsq_id': '4b7eb634f964a5208dfa2fe3', 'categories': [{'id': 13035, 'name': 'Coffee Shop', 'icon': {'prefix': 'https://ss3.4sqi.net/img/categories_v2/food/coffeeshop_', 'suffix': '.png'}}], 'chains': [{'id': 'ab4c54c0-d68a-012e-5619-003048cad9da', 'name': 'Starbucks'}], 'distance': 1446, 'geocodes': {'main': {'latitude': 41.402337, 'longitude': 2.174068}, 'roof': {'latitude': 41.402337, 'longitude': 2.174068}}, 'link': '/v3/places/4b7eb634f964a5208dfa2fe3', 'location': {'address': 'Plaça de la Sagrada Família, 19', 'admin_region': 'Cataluña', 'country': 'ES', 'formatted_address': 'Plaça de la Sagrada Família, 19, 08013 Barcelona Catalonia', 'locality': 'Barcelona', 'postcode': '08013', 'region': 'Catalonia'}, 'name': 'Starbucks', 'related_places': {}, 'timezone': 'Europe/Madrid'}, {'fsq_id': '4b509cb6f964a520682927e3', 'categories': [{'id': 13035, 'name': 'Coffee Shop', 'icon': {'prefix': 'https://ss3.4sqi.net/img/categories_v2/food/coffeeshop_', 'suffix': '.png'}}], 'chains': [{'id': 'ab4c54c0-d68a-012e-5619-003048cad9da', 'name': 'Starbucks'}], 'distance': 1813, 'geocodes': {'main': {'latitude': 41.388819, 'longitude': 2.171884}, 'roof': {'latitude': 41.388819, 'longitude': 2.171884}}, 'link': '/v3/places/4b509cb6f964a520682927e3', 'location': {'address': 'Ronda de Sant Pere, 17', 'admin_region': 'Cataluña', 'country': 'ES', 'formatted_address': 'Ronda de Sant Pere, 17, 08010 Barcelona Catalonia', 'locality': 'Barcelona', 'postcode': '08010', 'region': 'Catalonia'}, 'name': 'Starbucks', 'related_places': {}, 'timezone': 'Europe/Madrid'}, {'fsq_id': '59cb529c646e38736f2be338', 'categories': [{'id': 13035, 'name': 'Coffee Shop', 'icon': {'prefix': 'https://ss3.4sqi.net/img/categories_v2/food/coffeeshop_', 'suffix': '.png'}}], 'chains': [{'id': 'ab4c54c0-d68a-012e-5619-003048cad9da', 'name': 'Starbucks'}], 'distance': 1749, 'geocodes': {'drop_off': {'latitude': 41.383565, 'longitude': 2.181095}, 'main': {'latitude': 41.383506, 'longitude': 2.18109}, 'roof': {'latitude': 41.383506, 'longitude': 2.18109}}, 'link': '/v3/places/59cb529c646e38736f2be338', 'location': {'address': 'Calle Argentería, 61', 'admin_region': 'Cataluña', 'country': 'ES', 'cross_street': '', 'formatted_address': 'Calle Argentería, 61, 08003 Barcelona Catalonia', 'locality': 'Barcelona', 'postcode': '08003', 'region': 'Catalonia'}, 'name': 'Starbucks', 'related_places': {}, 'timezone': 'Europe/Madrid'}, {'fsq_id': '4b5f1bb8f964a52084a629e3', 'categories': [{'id': 13035, 'name': 'Coffee Shop', 'icon': {'prefix': 'https://ss3.4sqi.net/img/categories_v2/food/coffeeshop_', 'suffix': '.png'}}], 'chains': [{'id': 'ab4c54c0-d68a-012e-5619-003048cad9da', 'name': 'Starbucks'}], 'distance': 1776, 'geocodes': {'main': {'latitude': 41.385209, 'longitude': 2.177359}, 'roof': {'latitude': 41.385209, 'longitude': 2.177359}}, 'link': '/v3/places/4b5f1bb8f964a52084a629e3', 'location': {'address': 'Vía Laietana, 32', 'admin_region': 'Cataluña', 'country': 'ES', 'cross_street': '', 'formatted_address': 'Vía Laietana, 32, 08003 Barcelona Catalonia', 'locality': 'Barcelona', 'postcode': '08003', 'region': 'Catalonia'}, 'name': 'Starbucks', 'related_places': {}, 'timezone': 'Europe/Madrid'}], 'context': {'geo_bounds': {'circle': {'center': {'latitude': 41.3977421, 'longitude': 2.1902493}, 'radius': 2000}}}}\n"
     ]
    }
   ],
   "source": [
    "import json\n",
    "\n",
    "\n",
    "with open('data/coffe_shops.json', 'r') as f:\n",
    "   \n",
    "    coffe_shops = json.load(f)\n",
    "\n",
    "\n",
    "print(coffe_shops)\n"
   ]
  },
  {
   "cell_type": "markdown",
   "id": "2f3f4a1b",
   "metadata": {},
   "source": [
    "# 2. Plot a map with the coffee shops"
   ]
  },
  {
   "cell_type": "code",
   "execution_count": 2,
   "id": "644bbf42",
   "metadata": {},
   "outputs": [],
   "source": [
    "import geopandas as gdp\n",
    "from cartoframes.viz import Map, Layer, popup_element\n",
    "import folium"
   ]
  },
  {
   "cell_type": "code",
   "execution_count": null,
   "id": "0938676d",
   "metadata": {},
   "outputs": [],
   "source": [
    "\n"
   ]
  },
  {
   "cell_type": "markdown",
   "id": "9e0764d4",
   "metadata": {},
   "source": [
    "After pushing, view your own notebook on [nbviewer](https://nbviewer.org/)"
   ]
  }
 ],
 "metadata": {
  "kernelspec": {
   "display_name": "ironhack",
   "language": "python",
   "name": "ironhack"
  },
  "language_info": {
   "codemirror_mode": {
    "name": "ipython",
    "version": 3
   },
   "file_extension": ".py",
   "mimetype": "text/x-python",
   "name": "python",
   "nbconvert_exporter": "python",
   "pygments_lexer": "ipython3",
   "version": "3.9.12"
  },
  "toc": {
   "base_numbering": 1,
   "nav_menu": {},
   "number_sections": true,
   "sideBar": true,
   "skip_h1_title": false,
   "title_cell": "Table of Contents",
   "title_sidebar": "Contents",
   "toc_cell": false,
   "toc_position": {},
   "toc_section_display": true,
   "toc_window_display": true
  }
 },
 "nbformat": 4,
 "nbformat_minor": 5
}
