{
 "cells": [
  {
   "attachments": {},
   "cell_type": "markdown",
   "id": "0809e785",
   "metadata": {},
   "source": [
    "# 1. Import the necessary libraries for you to be able to query 4square API"
   ]
  },
  {
   "cell_type": "code",
   "execution_count": 2,
   "id": "9b373771",
   "metadata": {},
   "outputs": [],
   "source": [
    "import requests\n",
    "import json\n",
    "import pandas as pd\n",
    "from getpass import getpass\n",
    "import os"
   ]
  },
  {
   "cell_type": "code",
   "execution_count": 3,
   "id": "e9daa4bb",
   "metadata": {},
   "outputs": [],
   "source": [
    "token = os.getenv('token')"
   ]
  },
  {
   "attachments": {},
   "cell_type": "markdown",
   "id": "e94dce92",
   "metadata": {},
   "source": [
    "# 2. Get names and location of the 10 coffee places by passing Ironhack as your location"
   ]
  },
  {
   "cell_type": "code",
   "execution_count": 45,
   "id": "1d72f571",
   "metadata": {},
   "outputs": [
    {
     "name": "stdout",
     "output_type": "stream",
     "text": [
      "{\"results\":[{\"fsq_id\":\"555f2357498ee6528074710b\",\"categories\":[{\"id\":13034,\"name\":\"Café\",\"icon\":{\"prefix\":\"https://ss3.4sqi.net/img/categories_v2/food/cafe_\",\"suffix\":\".png\"}},{\"id\":13035,\"name\":\"Coffee Shop\",\"icon\":{\"prefix\":\"https://ss3.4sqi.net/img/categories_v2/food/coffeeshop_\",\"suffix\":\".png\"}},{\"id\":13065,\"name\":\"Restaurant\",\"icon\":{\"prefix\":\"https://ss3.4sqi.net/img/categories_v2/food/default_\",\"suffix\":\".png\"}}],\"chains\":[],\"distance\":403,\"geocodes\":{\"drop_off\":{\"latitude\":41.398843,\"longitude\":2.195152},\"main\":{\"latitude\":41.398735,\"longitude\":2.195069},\"roof\":{\"latitude\":41.398735,\"longitude\":2.195069}},\"link\":\"/v3/places/555f2357498ee6528074710b\",\"location\":{\"address\":\"Carrer Badajoz, 95\",\"admin_region\":\"Cataluña\",\"country\":\"ES\",\"cross_street\":\"\",\"formatted_address\":\"Carrer Badajoz, 95, 08005 Barcelona Catalonia\",\"locality\":\"Barcelona\",\"postcode\":\"08005\",\"region\":\"Catalonia\"},\"name\":\"Espai Joliu\",\"related_places\":{},\"timezone\":\"Europe/Madrid\"},{\"fsq_id\":\"530c5e6911d2be0b8d22e27a\",\"categories\":[{\"id\":13034,\"name\":\"Café\",\"icon\":{\"prefix\":\"https://ss3.4sqi.net/img/categories_v2/food/cafe_\",\"suffix\":\".png\"}},{\"id\":13035,\"name\":\"Coffee Shop\",\"icon\":{\"prefix\":\"https://ss3.4sqi.net/img/categories_v2/food/coffeeshop_\",\"suffix\":\".png\"}},{\"id\":13065,\"name\":\"Restaurant\",\"icon\":{\"prefix\":\"https://ss3.4sqi.net/img/categories_v2/food/default_\",\"suffix\":\".png\"}}],\"chains\":[],\"distance\":131,\"geocodes\":{\"main\":{\"latitude\":41.396876,\"longitude\":2.191489},\"roof\":{\"latitude\":41.396876,\"longitude\":2.191489}},\"link\":\"/v3/places/530c5e6911d2be0b8d22e27a\",\"location\":{\"address\":\"Calle Pamplona, 88\",\"admin_region\":\"Cataluña\",\"country\":\"ES\",\"cross_street\":\"C. de Pallars\",\"formatted_address\":\"Calle Pamplona, 88 (C. de Pallars), 08018 Barcelona Catalonia\",\"locality\":\"Barcelona\",\"postcode\":\"08018\",\"region\":\"Catalonia\"},\"name\":\"Skye coffee co\",\"related_places\":{},\"timezone\":\"Europe/Madrid\"},{\"fsq_id\":\"556d6217498ef50c5d323048\",\"categories\":[{\"id\":13003,\"name\":\"Bar\",\"icon\":{\"prefix\":\"https://ss3.4sqi.net/img/categories_v2/nightlife/pub_\",\"suffix\":\".png\"}},{\"id\":13035,\"name\":\"Coffee Shop\",\"icon\":{\"prefix\":\"https://ss3.4sqi.net/img/categories_v2/food/coffeeshop_\",\"suffix\":\".png\"}}],\"chains\":[],\"distance\":452,\"geocodes\":{\"main\":{\"latitude\":41.397977,\"longitude\":2.195589},\"roof\":{\"latitude\":41.397977,\"longitude\":2.195589}},\"link\":\"/v3/places/556d6217498ef50c5d323048\",\"location\":{\"address\":\"Calle de Pujades, 95\",\"admin_region\":\"Cataluña\",\"country\":\"ES\",\"cross_street\":\"C. de Badajoz\",\"formatted_address\":\"Calle de Pujades, 95 (C. de Badajoz), 08005 Barcelona\",\"locality\":\"Barcelona\",\"postcode\":\"08005\"},\"name\":\"Nømad Roaster's Home\",\"related_places\":{},\"timezone\":\"Europe/Madrid\"},{\"fsq_id\":\"5b8521d489e490002cefef18\",\"categories\":[{\"id\":13035,\"name\":\"Coffee Shop\",\"icon\":{\"prefix\":\"https://ss3.4sqi.net/img/categories_v2/food/coffeeshop_\",\"suffix\":\".png\"}},{\"id\":13065,\"name\":\"Restaurant\",\"icon\":{\"prefix\":\"https://ss3.4sqi.net/img/categories_v2/food/default_\",\"suffix\":\".png\"}}],\"chains\":[],\"distance\":573,\"geocodes\":{\"main\":{\"latitude\":41.396989,\"longitude\":2.183409},\"roof\":{\"latitude\":41.396989,\"longitude\":2.183409}},\"link\":\"/v3/places/5b8521d489e490002cefef18\",\"location\":{\"address\":\"Ausiàs Marc, 151\",\"admin_region\":\"Cataluña\",\"country\":\"ES\",\"formatted_address\":\"Ausiàs Marc, 151, 08013 Barcelona Catalonia\",\"locality\":\"Barcelona\",\"postcode\":\"08013\",\"region\":\"Catalonia\"},\"name\":\"Three Marks Coffee\",\"related_places\":{},\"timezone\":\"Europe/Madrid\"},{\"fsq_id\":\"55c4c7b0498e0593fc56c435\",\"categories\":[{\"id\":13035,\"name\":\"Coffee Shop\",\"icon\":{\"prefix\":\"https://ss3.4sqi.net/img/categories_v2/food/coffeeshop_\",\"suffix\":\".png\"}},{\"id\":13145,\"name\":\"Fast Food Restaurant\",\"icon\":{\"prefix\":\"https://ss3.4sqi.net/img/categories_v2/food/fastfood_\",\"suffix\":\".png\"}}],\"chains\":[],\"distance\":649,\"geocodes\":{\"drop_off\":{\"latitude\":41.401973,\"longitude\":2.195526},\"main\":{\"latitude\":41.402197,\"longitude\":2.195696},\"roof\":{\"latitude\":41.402197,\"longitude\":2.195696}},\"link\":\"/v3/places/55c4c7b0498e0593fc56c435\",\"location\":{\"address\":\"Carrer de Roc Boronat, 102\",\"admin_region\":\"Cataluña\",\"country\":\"ES\",\"cross_street\":\"Sancho d'Avila/ Almogavers\",\"formatted_address\":\"Carrer de Roc Boronat, 102 (Sancho d'Avila/ Almogavers), 08018 Barcelona Catalonia\",\"locality\":\"Barcelona\",\"postcode\":\"08018\",\"region\":\"Catalonia\"},\"name\":\"Súper coffee & food store\",\"related_places\":{},\"timezone\":\"Europe/Madrid\"},{\"fsq_id\":\"5d4bd14db633a60008a721b0\",\"categories\":[{\"id\":13035,\"name\":\"Coffee Shop\",\"icon\":{\"prefix\":\"https://ss3.4sqi.net/img/categories_v2/food/coffeeshop_\",\"suffix\":\".png\"}}],\"chains\":[],\"distance\":342,\"geocodes\":{\"drop_off\":{\"latitude\":41.396628,\"longitude\":2.194087},\"main\":{\"latitude\":41.396518,\"longitude\":2.19417},\"roof\":{\"latitude\":41.396518,\"longitude\":2.19417}},\"link\":\"/v3/places/5d4bd14db633a60008a721b0\",\"location\":{\"address\":\"Calle de Pujades, 100\",\"admin_region\":\"Cataluña\",\"country\":\"ES\",\"cross_street\":\"C. d'Àlaba\",\"formatted_address\":\"Calle de Pujades, 100 (C. d'Àlaba), 08005 Barcelona Catalonia\",\"locality\":\"Barcelona\",\"postcode\":\"08005\",\"region\":\"Catalonia\"},\"name\":\"Syra Coffee Poblenou\",\"related_places\":{},\"timezone\":\"Europe/Madrid\"},{\"fsq_id\":\"4f7176cde4b0d1b3a40615ff\",\"categories\":[{\"id\":13034,\"name\":\"Café\",\"icon\":{\"prefix\":\"https://ss3.4sqi.net/img/categories_v2/food/cafe_\",\"suffix\":\".png\"}},{\"id\":13039,\"name\":\"Deli\",\"icon\":{\"prefix\":\"https://ss3.4sqi.net/img/categories_v2/food/deli_\",\"suffix\":\".png\"}},{\"id\":13079,\"name\":\"Brazilian Restaurant\",\"icon\":{\"prefix\":\"https://ss3.4sqi.net/img/categories_v2/food/argentinian_\",\"suffix\":\".png\"}}],\"chains\":[],\"distance\":730,\"geocodes\":{\"main\":{\"latitude\":41.392081,\"longitude\":2.185666},\"roof\":{\"latitude\":41.392081,\"longitude\":2.185666}},\"link\":\"/v3/places/4f7176cde4b0d1b3a40615ff\",\"location\":{\"address\":\"Lington, 17\",\"admin_region\":\"Cataluña\",\"country\":\"ES\",\"cross_street\":\"Wellington\",\"formatted_address\":\"Lington, 17 (Wellington), 08018 Barcelona Catalonia\",\"locality\":\"Barcelona\",\"postcode\":\"08018\",\"region\":\"Catalonia\"},\"name\":\"Santa Fe\",\"related_places\":{},\"timezone\":\"Europe/Madrid\"},{\"fsq_id\":\"5cf510f0031320002cbd5af8\",\"categories\":[{\"id\":13035,\"name\":\"Coffee Shop\",\"icon\":{\"prefix\":\"https://ss3.4sqi.net/img/categories_v2/food/coffeeshop_\",\"suffix\":\".png\"}},{\"id\":13065,\"name\":\"Restaurant\",\"icon\":{\"prefix\":\"https://ss3.4sqi.net/img/categories_v2/food/default_\",\"suffix\":\".png\"}}],\"chains\":[],\"distance\":691,\"geocodes\":{\"drop_off\":{\"latitude\":41.392386,\"longitude\":2.185868},\"main\":{\"latitude\":41.392543,\"longitude\":2.185749},\"roof\":{\"latitude\":41.392543,\"longitude\":2.185749}},\"link\":\"/v3/places/5cf510f0031320002cbd5af8\",\"location\":{\"address\":\"Calle de Buenaventura Muñoz, 31\",\"admin_region\":\"Cataluña\",\"country\":\"ES\",\"cross_street\":\"\",\"formatted_address\":\"Calle de Buenaventura Muñoz, 31, 08018 Barcelona Catalonia\",\"locality\":\"Barcelona\",\"postcode\":\"08018\",\"region\":\"Catalonia\"},\"name\":\"Orval\",\"related_places\":{},\"timezone\":\"Europe/Madrid\"},{\"fsq_id\":\"5cb5ca8fb1538e002c03442c\",\"categories\":[{\"id\":13035,\"name\":\"Coffee Shop\",\"icon\":{\"prefix\":\"https://ss3.4sqi.net/img/categories_v2/food/coffeeshop_\",\"suffix\":\".png\"}}],\"chains\":[],\"distance\":1053,\"geocodes\":{\"main\":{\"latitude\":41.394562,\"longitude\":2.178425}},\"link\":\"/v3/places/5cb5ca8fb1538e002c03442c\",\"location\":{\"address\":\"Calle de Roger de Flor, 102\",\"admin_region\":\"Cataluña\",\"country\":\"ES\",\"cross_street\":\"\",\"formatted_address\":\"Calle de Roger de Flor, 102, 08013 Barcelona Catalonia\",\"locality\":\"Barcelona\",\"postcode\":\"08013\",\"region\":\"Catalonia\"},\"name\":\"Brew Coffee\",\"related_places\":{},\"timezone\":\"Europe/Madrid\"},{\"fsq_id\":\"4ffd87dde4b07010c000f79b\",\"categories\":[{\"id\":13002,\"name\":\"Bakery\",\"icon\":{\"prefix\":\"https://ss3.4sqi.net/img/categories_v2/food/bakery_\",\"suffix\":\".png\"}},{\"id\":13034,\"name\":\"Café\",\"icon\":{\"prefix\":\"https://ss3.4sqi.net/img/categories_v2/food/cafe_\",\"suffix\":\".png\"}},{\"id\":13065,\"name\":\"Restaurant\",\"icon\":{\"prefix\":\"https://ss3.4sqi.net/img/categories_v2/food/default_\",\"suffix\":\".png\"}}],\"chains\":[],\"distance\":1107,\"geocodes\":{\"drop_off\":{\"latitude\":41.396334,\"longitude\":2.177097},\"main\":{\"latitude\":41.396371,\"longitude\":2.177069},\"roof\":{\"latitude\":41.396371,\"longitude\":2.177069}},\"link\":\"/v3/places/4ffd87dde4b07010c000f79b\",\"location\":{\"address\":\"Gran Vía de Les Corts Catalanes, 677\",\"admin_region\":\"Cataluña\",\"country\":\"ES\",\"cross_street\":\"btwn c/ Nàpols & c/ Roger de Flor\",\"formatted_address\":\"Gran Vía de Les Corts Catalanes, 677 (btwn c/ Nàpols & c/ Roger de Flor), 08013 Barcelona Catalonia\",\"locality\":\"Barcelona\",\"postcode\":\"08013\",\"region\":\"Catalonia\"},\"name\":\"El Petit Princep\",\"related_places\":{},\"timezone\":\"Europe/Madrid\"}],\"context\":{\"geo_bounds\":{\"circle\":{\"center\":{\"latitude\":41.3977479,\"longitude\":2.1903258},\"radius\":22000}}}}\n"
     ]
    }
   ],
   "source": [
    "import requests\n",
    "\n",
    "##### I WAS IN KENYA!!!!! DAAAAAMMN\n",
    "\n",
    "url = \"https://api.foursquare.com/v3/places/search?query=coffee&ll=41.3977479%2C2.1903258&limit=10\"\n",
    "headers = {\n",
    "    \"accept\": \"application/json\",\n",
    "    \"Authorization\": token\n",
    "}\n",
    "\n",
    "response = requests.get(url, headers=headers)\n",
    "\n",
    "print(response.text)"
   ]
  },
  {
   "cell_type": "code",
   "execution_count": 59,
   "id": "52908177",
   "metadata": {},
   "outputs": [
    {
     "data": {
      "text/plain": [
       "{'fsq_id': '555f2357498ee6528074710b',\n",
       " 'categories': [{'id': 13034,\n",
       "   'name': 'Café',\n",
       "   'icon': {'prefix': 'https://ss3.4sqi.net/img/categories_v2/food/cafe_',\n",
       "    'suffix': '.png'}},\n",
       "  {'id': 13035,\n",
       "   'name': 'Coffee Shop',\n",
       "   'icon': {'prefix': 'https://ss3.4sqi.net/img/categories_v2/food/coffeeshop_',\n",
       "    'suffix': '.png'}},\n",
       "  {'id': 13065,\n",
       "   'name': 'Restaurant',\n",
       "   'icon': {'prefix': 'https://ss3.4sqi.net/img/categories_v2/food/default_',\n",
       "    'suffix': '.png'}}],\n",
       " 'chains': [],\n",
       " 'distance': 403,\n",
       " 'geocodes': {'drop_off': {'latitude': 41.398843, 'longitude': 2.195152},\n",
       "  'main': {'latitude': 41.398735, 'longitude': 2.195069},\n",
       "  'roof': {'latitude': 41.398735, 'longitude': 2.195069}},\n",
       " 'link': '/v3/places/555f2357498ee6528074710b',\n",
       " 'location': {'address': 'Carrer Badajoz, 95',\n",
       "  'admin_region': 'Cataluña',\n",
       "  'country': 'ES',\n",
       "  'cross_street': '',\n",
       "  'formatted_address': 'Carrer Badajoz, 95, 08005 Barcelona Catalonia',\n",
       "  'locality': 'Barcelona',\n",
       "  'postcode': '08005',\n",
       "  'region': 'Catalonia'},\n",
       " 'name': 'Espai Joliu',\n",
       " 'related_places': {},\n",
       " 'timezone': 'Europe/Madrid'}"
      ]
     },
     "execution_count": 59,
     "metadata": {},
     "output_type": "execute_result"
    }
   ],
   "source": [
    "results = response.json()\n",
    "results['results'][0]\n"
   ]
  },
  {
   "cell_type": "code",
   "execution_count": 61,
   "id": "cb563ac7",
   "metadata": {},
   "outputs": [],
   "source": [
    "def everything_from_foursquare (one_element):\n",
    "    \n",
    "    address = one_element[\"location\"][\"formatted_address\"]\n",
    "    name = one_element[\"name\"]\n",
    "    \n",
    "    dict_ = {\"name\": name, \"address\":address}\n",
    "    \n",
    "    return dict_\n",
    "\n",
    "new_list = []\n",
    "for i in results[\"results\"]:\n",
    "    new_list.append(everything_from_foursquare (i))\n",
    "\n",
    "df = pd.DataFrame(new_list)"
   ]
  },
  {
   "cell_type": "code",
   "execution_count": 62,
   "id": "ad45e6d4",
   "metadata": {},
   "outputs": [
    {
     "data": {
      "text/html": [
       "<div>\n",
       "<style scoped>\n",
       "    .dataframe tbody tr th:only-of-type {\n",
       "        vertical-align: middle;\n",
       "    }\n",
       "\n",
       "    .dataframe tbody tr th {\n",
       "        vertical-align: top;\n",
       "    }\n",
       "\n",
       "    .dataframe thead th {\n",
       "        text-align: right;\n",
       "    }\n",
       "</style>\n",
       "<table border=\"1\" class=\"dataframe\">\n",
       "  <thead>\n",
       "    <tr style=\"text-align: right;\">\n",
       "      <th></th>\n",
       "      <th>name</th>\n",
       "      <th>address</th>\n",
       "    </tr>\n",
       "  </thead>\n",
       "  <tbody>\n",
       "    <tr>\n",
       "      <th>0</th>\n",
       "      <td>Espai Joliu</td>\n",
       "      <td>Carrer Badajoz, 95, 08005 Barcelona Catalonia</td>\n",
       "    </tr>\n",
       "    <tr>\n",
       "      <th>1</th>\n",
       "      <td>Skye coffee co</td>\n",
       "      <td>Calle Pamplona, 88 (C. de Pallars), 08018 Barc...</td>\n",
       "    </tr>\n",
       "    <tr>\n",
       "      <th>2</th>\n",
       "      <td>Nømad Roaster's Home</td>\n",
       "      <td>Calle de Pujades, 95 (C. de Badajoz), 08005 Ba...</td>\n",
       "    </tr>\n",
       "    <tr>\n",
       "      <th>3</th>\n",
       "      <td>Three Marks Coffee</td>\n",
       "      <td>Ausiàs Marc, 151, 08013 Barcelona Catalonia</td>\n",
       "    </tr>\n",
       "    <tr>\n",
       "      <th>4</th>\n",
       "      <td>Súper coffee &amp; food store</td>\n",
       "      <td>Carrer de Roc Boronat, 102 (Sancho d'Avila/ Al...</td>\n",
       "    </tr>\n",
       "    <tr>\n",
       "      <th>5</th>\n",
       "      <td>Syra Coffee Poblenou</td>\n",
       "      <td>Calle de Pujades, 100 (C. d'Àlaba), 08005 Barc...</td>\n",
       "    </tr>\n",
       "    <tr>\n",
       "      <th>6</th>\n",
       "      <td>Santa Fe</td>\n",
       "      <td>Lington, 17 (Wellington), 08018 Barcelona Cata...</td>\n",
       "    </tr>\n",
       "    <tr>\n",
       "      <th>7</th>\n",
       "      <td>Orval</td>\n",
       "      <td>Calle de Buenaventura Muñoz, 31, 08018 Barcelo...</td>\n",
       "    </tr>\n",
       "    <tr>\n",
       "      <th>8</th>\n",
       "      <td>Brew Coffee</td>\n",
       "      <td>Calle de Roger de Flor, 102, 08013 Barcelona C...</td>\n",
       "    </tr>\n",
       "    <tr>\n",
       "      <th>9</th>\n",
       "      <td>El Petit Princep</td>\n",
       "      <td>Gran Vía de Les Corts Catalanes, 677 (btwn c/ ...</td>\n",
       "    </tr>\n",
       "  </tbody>\n",
       "</table>\n",
       "</div>"
      ],
      "text/plain": [
       "                        name   \n",
       "0                Espai Joliu  \\\n",
       "1             Skye coffee co   \n",
       "2       Nømad Roaster's Home   \n",
       "3         Three Marks Coffee   \n",
       "4  Súper coffee & food store   \n",
       "5       Syra Coffee Poblenou   \n",
       "6                   Santa Fe   \n",
       "7                      Orval   \n",
       "8                Brew Coffee   \n",
       "9           El Petit Princep   \n",
       "\n",
       "                                             address  \n",
       "0      Carrer Badajoz, 95, 08005 Barcelona Catalonia  \n",
       "1  Calle Pamplona, 88 (C. de Pallars), 08018 Barc...  \n",
       "2  Calle de Pujades, 95 (C. de Badajoz), 08005 Ba...  \n",
       "3        Ausiàs Marc, 151, 08013 Barcelona Catalonia  \n",
       "4  Carrer de Roc Boronat, 102 (Sancho d'Avila/ Al...  \n",
       "5  Calle de Pujades, 100 (C. d'Àlaba), 08005 Barc...  \n",
       "6  Lington, 17 (Wellington), 08018 Barcelona Cata...  \n",
       "7  Calle de Buenaventura Muñoz, 31, 08018 Barcelo...  \n",
       "8  Calle de Roger de Flor, 102, 08013 Barcelona C...  \n",
       "9  Gran Vía de Les Corts Catalanes, 677 (btwn c/ ...  "
      ]
     },
     "execution_count": 62,
     "metadata": {},
     "output_type": "execute_result"
    }
   ],
   "source": [
    "df\n"
   ]
  },
  {
   "attachments": {},
   "cell_type": "markdown",
   "id": "941b5dbf",
   "metadata": {},
   "source": [
    "# 3. Now get the 5 CLOSEST coffe places. Make use of params: limit, near?"
   ]
  },
  {
   "cell_type": "code",
   "execution_count": 63,
   "id": "fda8ddff",
   "metadata": {},
   "outputs": [
    {
     "name": "stdout",
     "output_type": "stream",
     "text": [
      "{'results': [{'fsq_id': '52fafeb4498e411285ad33be', 'categories': [{'id': 13003, 'name': 'Bar', 'icon': {'prefix': 'https://ss3.4sqi.net/img/categories_v2/nightlife/pub_', 'suffix': '.png'}}, {'id': 13034, 'name': 'Café', 'icon': {'prefix': 'https://ss3.4sqi.net/img/categories_v2/food/cafe_', 'suffix': '.png'}}, {'id': 13035, 'name': 'Coffee Shop', 'icon': {'prefix': 'https://ss3.4sqi.net/img/categories_v2/food/coffeeshop_', 'suffix': '.png'}}], 'chains': [], 'distance': 1513, 'geocodes': {'drop_off': {'latitude': 41.388916, 'longitude': 2.177114}, 'main': {'latitude': 41.388989, 'longitude': 2.177167}, 'roof': {'latitude': 41.388989, 'longitude': 2.177167}}, 'link': '/v3/places/52fafeb4498e411285ad33be', 'location': {'address': 'Pasatge Sert, 12', 'admin_region': 'Cataluña', 'country': 'ES', 'cross_street': 'C. de Trafalgar', 'formatted_address': 'Pasatge Sert, 12 (C. de Trafalgar), 08003 Barcelona Catalonia', 'locality': 'Barcelona', 'postcode': '08003', 'region': 'Catalonia'}, 'name': 'Nømad Coffee Lab & Shop', 'related_places': {'children': []}, 'timezone': 'Europe/Madrid'}, {'fsq_id': '4b89528ef964a520852b32e3', 'categories': [{'id': 13035, 'name': 'Coffee Shop', 'icon': {'prefix': 'https://ss3.4sqi.net/img/categories_v2/food/coffeeshop_', 'suffix': '.png'}}, {'id': 13036, 'name': 'Tea Room', 'icon': {'prefix': 'https://ss3.4sqi.net/img/categories_v2/food/tearoom_', 'suffix': '.png'}}, {'id': 13039, 'name': 'Deli', 'icon': {'prefix': 'https://ss3.4sqi.net/img/categories_v2/food/deli_', 'suffix': '.png'}}], 'chains': [], 'distance': 1918, 'geocodes': {'main': {'latitude': 41.383541, 'longitude': 2.180957}, 'roof': {'latitude': 41.383541, 'longitude': 2.180957}}, 'link': '/v3/places/4b89528ef964a520852b32e3', 'location': {'address': 'Argenteria, 64', 'admin_region': 'Cataluña', 'country': 'ES', 'formatted_address': 'Argenteria, 64, 08003 Barcelona Catalonia', 'locality': 'Barcelona', 'postcode': '08003', 'region': 'Catalonia'}, 'name': 'Cafés el Magnífico', 'related_places': {}, 'timezone': 'Europe/Madrid'}, {'fsq_id': '57ff4bde38fa1e8f0810a46d', 'categories': [{'id': 13035, 'name': 'Coffee Shop', 'icon': {'prefix': 'https://ss3.4sqi.net/img/categories_v2/food/coffeeshop_', 'suffix': '.png'}}, {'id': 13065, 'name': 'Restaurant', 'icon': {'prefix': 'https://ss3.4sqi.net/img/categories_v2/food/default_', 'suffix': '.png'}}], 'chains': [], 'distance': 189, 'geocodes': {'main': {'latitude': 41.387825, 'longitude': 2.157221}, 'roof': {'latitude': 41.387825, 'longitude': 2.157221}}, 'link': '/v3/places/57ff4bde38fa1e8f0810a46d', 'location': {'address': 'Carrer de València, 190', 'admin_region': 'Cataluña', 'country': 'ES', 'cross_street': 'C. de València', 'formatted_address': 'Carrer de València, 190 (C. de València), 08011 Barcelona Catalonia', 'locality': 'Barcelona', 'postcode': '08011', 'region': 'Catalonia'}, 'name': 'Roast Club', 'related_places': {}, 'timezone': 'Europe/Madrid'}, {'fsq_id': '5698d01a498e9b5bf6bad803', 'categories': [{'id': 13003, 'name': 'Bar', 'icon': {'prefix': 'https://ss3.4sqi.net/img/categories_v2/nightlife/pub_', 'suffix': '.png'}}, {'id': 13035, 'name': 'Coffee Shop', 'icon': {'prefix': 'https://ss3.4sqi.net/img/categories_v2/food/coffeeshop_', 'suffix': '.png'}}, {'id': 13065, 'name': 'Restaurant', 'icon': {'prefix': 'https://ss3.4sqi.net/img/categories_v2/food/default_', 'suffix': '.png'}}], 'chains': [], 'distance': 1376, 'geocodes': {'drop_off': {'latitude': 41.393623, 'longitude': 2.17426}, 'main': {'latitude': 41.393575, 'longitude': 2.174295}, 'roof': {'latitude': 41.393575, 'longitude': 2.174295}}, 'link': '/v3/places/5698d01a498e9b5bf6bad803', 'location': {'address': 'Gran Vía de Les Corts Catalanes, 700', 'admin_region': 'Cataluña', 'country': 'ES', 'cross_street': '', 'formatted_address': 'Gran Vía de Les Corts Catalanes, 700, 08010 Barcelona Catalonia', 'locality': 'Barcelona', 'postcode': '08010', 'region': 'Catalonia'}, 'name': \"Satan's Coffee\", 'related_places': {'parent': {'fsq_id': '569b92b5498e7d195229c6de', 'name': 'Hotel Casa Bonay'}}, 'timezone': 'Europe/Madrid'}, {'fsq_id': '5753f3e3498e1f2cea0834f8', 'categories': [{'id': 13003, 'name': 'Bar', 'icon': {'prefix': 'https://ss3.4sqi.net/img/categories_v2/nightlife/pub_', 'suffix': '.png'}}, {'id': 13035, 'name': 'Coffee Shop', 'icon': {'prefix': 'https://ss3.4sqi.net/img/categories_v2/food/coffeeshop_', 'suffix': '.png'}}, {'id': 13065, 'name': 'Restaurant', 'icon': {'prefix': 'https://ss3.4sqi.net/img/categories_v2/food/default_', 'suffix': '.png'}}], 'chains': [], 'distance': 1937, 'geocodes': {'main': {'latitude': 41.388351, 'longitude': 2.135953}, 'roof': {'latitude': 41.388351, 'longitude': 2.135953}}, 'link': '/v3/places/5753f3e3498e1f2cea0834f8', 'location': {'address': 'Carrer Déu I Mata, 62 Bajo', 'admin_region': 'Cataluña', 'country': 'ES', 'cross_street': 'C. de Deu i Mata', 'formatted_address': 'Carrer Déu I Mata, 62 Bajo (C. de Deu i Mata), 08029 Barcelona Catalonia', 'locality': 'Barcelona', 'postcode': '08029', 'region': 'Catalonia'}, 'name': 'Hidden Café Barcelona', 'related_places': {}, 'timezone': 'Europe/Madrid'}], 'context': {'geo_bounds': {'circle': {'center': {'latitude': 41.38879, 'longitude': 2.15899}, 'radius': 8445}}}}\n"
     ]
    }
   ],
   "source": [
    "# your code here\n",
    "url = \"https://api.foursquare.com/v3/places/search?query=coffee%20shop&near=ironhack%20barcelona&limit=5\"\n",
    "headers = {\n",
    "    \"accept\": \"application/json\",\n",
    "    \"Authorization\": token\n",
    "}\n",
    "\n",
    "response = requests.get(url, headers=headers).json()\n",
    "\n",
    "print(response)"
   ]
  },
  {
   "cell_type": "code",
   "execution_count": 65,
   "id": "d14d5b68",
   "metadata": {},
   "outputs": [
    {
     "data": {
      "text/html": [
       "<div>\n",
       "<style scoped>\n",
       "    .dataframe tbody tr th:only-of-type {\n",
       "        vertical-align: middle;\n",
       "    }\n",
       "\n",
       "    .dataframe tbody tr th {\n",
       "        vertical-align: top;\n",
       "    }\n",
       "\n",
       "    .dataframe thead th {\n",
       "        text-align: right;\n",
       "    }\n",
       "</style>\n",
       "<table border=\"1\" class=\"dataframe\">\n",
       "  <thead>\n",
       "    <tr style=\"text-align: right;\">\n",
       "      <th></th>\n",
       "      <th>name</th>\n",
       "      <th>address</th>\n",
       "    </tr>\n",
       "  </thead>\n",
       "  <tbody>\n",
       "    <tr>\n",
       "      <th>0</th>\n",
       "      <td>Nømad Coffee Lab &amp; Shop</td>\n",
       "      <td>Pasatge Sert, 12 (C. de Trafalgar), 08003 Barc...</td>\n",
       "    </tr>\n",
       "    <tr>\n",
       "      <th>1</th>\n",
       "      <td>Cafés el Magnífico</td>\n",
       "      <td>Argenteria, 64, 08003 Barcelona Catalonia</td>\n",
       "    </tr>\n",
       "    <tr>\n",
       "      <th>2</th>\n",
       "      <td>Roast Club</td>\n",
       "      <td>Carrer de València, 190 (C. de València), 0801...</td>\n",
       "    </tr>\n",
       "    <tr>\n",
       "      <th>3</th>\n",
       "      <td>Satan's Coffee</td>\n",
       "      <td>Gran Vía de Les Corts Catalanes, 700, 08010 Ba...</td>\n",
       "    </tr>\n",
       "    <tr>\n",
       "      <th>4</th>\n",
       "      <td>Hidden Café Barcelona</td>\n",
       "      <td>Carrer Déu I Mata, 62 Bajo (C. de Deu i Mata),...</td>\n",
       "    </tr>\n",
       "  </tbody>\n",
       "</table>\n",
       "</div>"
      ],
      "text/plain": [
       "                      name                                            address\n",
       "0  Nømad Coffee Lab & Shop  Pasatge Sert, 12 (C. de Trafalgar), 08003 Barc...\n",
       "1       Cafés el Magnífico          Argenteria, 64, 08003 Barcelona Catalonia\n",
       "2               Roast Club  Carrer de València, 190 (C. de València), 0801...\n",
       "3           Satan's Coffee  Gran Vía de Les Corts Catalanes, 700, 08010 Ba...\n",
       "4    Hidden Café Barcelona  Carrer Déu I Mata, 62 Bajo (C. de Deu i Mata),..."
      ]
     },
     "execution_count": 65,
     "metadata": {},
     "output_type": "execute_result"
    }
   ],
   "source": [
    "def everything_from_foursquare (one_element):\n",
    "    \n",
    "    address = one_element[\"location\"][\"formatted_address\"]\n",
    "    name = one_element[\"name\"]\n",
    "    \n",
    "    dict_ = {\"name\": name, \"address\":address}\n",
    "    \n",
    "    return dict_\n",
    "\n",
    "new_list = []\n",
    "for i in response[\"results\"]:\n",
    "    new_list.append(everything_from_foursquare (i))\n",
    "\n",
    "df = pd.DataFrame(new_list)\n",
    "df"
   ]
  },
  {
   "attachments": {},
   "cell_type": "markdown",
   "id": "d19904e8",
   "metadata": {},
   "source": [
    "# 4. Define a function that returns name, lat, long for starbucks OR restaurants AND for any given location"
   ]
  },
  {
   "cell_type": "code",
   "execution_count": 100,
   "id": "1fad5153",
   "metadata": {},
   "outputs": [],
   "source": [
    "def foursquare_places (venue, coordinates):\n",
    "    #I put a low limit for the sake of Fer's KEY\n",
    "    url = f\"https://api.foursquare.com/v3/places/search?query={venue}&near={coordinates}&limit=5&limit=10\"\n",
    "    headers = {\"accept\": \"application/json\", \"Authorization\": token}\n",
    "    retorno = requests.get(url, headers=headers).json()\n",
    "\n",
    "    places = []\n",
    "    \n",
    "    for result in retorno[\"results\"]:\n",
    "        name = result[\"name\"]\n",
    "        lat = result[\"geocodes\"][\"main\"][\"latitude\"]\n",
    "        lon = result[\"geocodes\"][\"main\"][\"longitude\"]\n",
    "        places.append({\"name\": name, \"lat\": lat, \"lon\": lon})\n",
    "    \n",
    "    return places\n",
    "  "
   ]
  },
  {
   "cell_type": "code",
   "execution_count": 101,
   "id": "407b70bd",
   "metadata": {},
   "outputs": [],
   "source": [
    "ipanema = foursquare_places(\"bar\",\"Ipanema, Rio de Janeiro\")"
   ]
  },
  {
   "cell_type": "code",
   "execution_count": 102,
   "id": "faebc269",
   "metadata": {},
   "outputs": [
    {
     "data": {
      "text/plain": [
       "[{'name': 'Café e Bar Cantinho de Ipanema',\n",
       "  'lat': -22.982336,\n",
       "  'lon': -43.202577},\n",
       " {'name': 'Bar Lagoa', 'lat': -22.980038, 'lon': -43.203401},\n",
       " {'name': 'Bar do Adão - Ipanema', 'lat': -22.985817, 'lon': -43.198583},\n",
       " {'name': 'Café e Bar Zig Zag', 'lat': -22.985495, 'lon': -43.198826},\n",
       " {'name': 'Osório Bar', 'lat': -22.984294, 'lon': -43.194845}]"
      ]
     },
     "execution_count": 102,
     "metadata": {},
     "output_type": "execute_result"
    }
   ],
   "source": [
    "ipanema"
   ]
  },
  {
   "attachments": {},
   "cell_type": "markdown",
   "id": "1836c1a1",
   "metadata": {},
   "source": [
    "# 5. Export it into data folder as a json: `data/coffe_shops.json`"
   ]
  },
  {
   "cell_type": "code",
   "execution_count": 103,
   "id": "7ac5f2a8",
   "metadata": {},
   "outputs": [],
   "source": [
    "# your code here\n",
    "with open(\"data/bars.json\", \"w\") as f:\n",
    "    json.dump(ipanema, f)"
   ]
  },
  {
   "attachments": {},
   "cell_type": "markdown",
   "id": "2d77e99d",
   "metadata": {},
   "source": [
    "# BONUS: load it into MongoDB in a collection named \"ironcoffee\" using pymongo"
   ]
  },
  {
   "cell_type": "code",
   "execution_count": null,
   "id": "85b94955",
   "metadata": {},
   "outputs": [],
   "source": [
    "# your code here\n"
   ]
  }
 ],
 "metadata": {
  "kernelspec": {
   "display_name": "ironhack",
   "language": "python",
   "name": "ironhack"
  },
  "language_info": {
   "codemirror_mode": {
    "name": "ipython",
    "version": 3
   },
   "file_extension": ".py",
   "mimetype": "text/x-python",
   "name": "python",
   "nbconvert_exporter": "python",
   "pygments_lexer": "ipython3",
   "version": "3.10.9"
  },
  "toc": {
   "base_numbering": 1,
   "nav_menu": {},
   "number_sections": true,
   "sideBar": true,
   "skip_h1_title": false,
   "title_cell": "Table of Contents",
   "title_sidebar": "Contents",
   "toc_cell": false,
   "toc_position": {},
   "toc_section_display": true,
   "toc_window_display": true
  }
 },
 "nbformat": 4,
 "nbformat_minor": 5
}
