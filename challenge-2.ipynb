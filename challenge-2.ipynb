{
 "cells": [
  {
   "cell_type": "markdown",
   "id": "0809e785",
   "metadata": {},
   "source": [
    "# 1. Import the necessary libraries for you to be able to query 4square API"
   ]
  },
  {
   "cell_type": "code",
   "execution_count": 8,
   "id": "9b373771",
   "metadata": {},
   "outputs": [],
   "source": [
    "import requests\n",
    "import json\n",
    "import pandas as pd\n",
    "from getpass import getpass\n",
    "import os\n",
    "from dotenv import load_dotenv"
   ]
  },
  {
   "cell_type": "markdown",
   "id": "e94dce92",
   "metadata": {},
   "source": [
    "# 2. Get names and location of the 10 coffee places by passing Ironhack as your location"
   ]
  },
  {
   "cell_type": "code",
   "execution_count": 32,
   "id": "0dde1a1a",
   "metadata": {},
   "outputs": [
    {
     "data": {
      "text/plain": [
       "True"
      ]
     },
     "execution_count": 32,
     "metadata": {},
     "output_type": "execute_result"
    }
   ],
   "source": [
    "token = os.getenv(\"token\")\n",
    "from getpass import getpass\n",
    "load_dotenv()"
   ]
  },
  {
   "cell_type": "code",
   "execution_count": 33,
   "id": "1d72f571",
   "metadata": {},
   "outputs": [],
   "source": [
    "url = 'https://api.foursquare.com/v3/places/search?query=cafe&ll=41.3977421%2C2.1902493&radius=1000&limit=10'\n",
    "\n",
    "headers = {\n",
    "    \"accept\": \"application/json\",\n",
    "    \"Authorization\": token\n",
    "}\n",
    "\n",
    "response = requests.get(url, headers=headers)"
   ]
  },
  {
   "cell_type": "code",
   "execution_count": 34,
   "id": "93c0f237",
   "metadata": {},
   "outputs": [
    {
     "data": {
      "text/plain": [
       "<Response [200]>"
      ]
     },
     "execution_count": 34,
     "metadata": {},
     "output_type": "execute_result"
    }
   ],
   "source": [
    "response"
   ]
  },
  {
   "cell_type": "code",
   "execution_count": 35,
   "id": "faa83cec",
   "metadata": {},
   "outputs": [
    {
     "data": {
      "text/plain": [
       "{'results': [{'fsq_id': '4bc56b0d0a30d13a200b5a9c',\n",
       "   'categories': [{'id': 13003,\n",
       "     'name': 'Bar',\n",
       "     'icon': {'prefix': 'https://ss3.4sqi.net/img/categories_v2/nightlife/pub_',\n",
       "      'suffix': '.png'}},\n",
       "    {'id': 13034,\n",
       "     'name': 'Café',\n",
       "     'icon': {'prefix': 'https://ss3.4sqi.net/img/categories_v2/food/cafe_',\n",
       "      'suffix': '.png'}},\n",
       "    {'id': 13065,\n",
       "     'name': 'Restaurant',\n",
       "     'icon': {'prefix': 'https://ss3.4sqi.net/img/categories_v2/food/default_',\n",
       "      'suffix': '.png'}}],\n",
       "   'chains': [],\n",
       "   'distance': 492,\n",
       "   'geocodes': {'drop_off': {'latitude': 41.395904, 'longitude': 2.195409},\n",
       "    'main': {'latitude': 41.395878, 'longitude': 2.195428},\n",
       "    'roof': {'latitude': 41.395878, 'longitude': 2.195428}},\n",
       "   'link': '/v3/places/4bc56b0d0a30d13a200b5a9c',\n",
       "   'location': {'address': 'Calle Llul, 94',\n",
       "    'admin_region': 'Cataluña',\n",
       "    'country': 'ES',\n",
       "    'cross_street': '',\n",
       "    'formatted_address': 'Calle Llul, 94, 08005 Barcelona Catalonia',\n",
       "    'locality': 'Barcelona',\n",
       "    'postcode': '08005',\n",
       "    'region': 'Catalonia'},\n",
       "   'name': 'Oli+Café',\n",
       "   'related_places': {},\n",
       "   'timezone': 'Europe/Madrid'},\n",
       "  {'fsq_id': '5a45f9b5da2e006276d93255',\n",
       "   'categories': [{'id': 13003,\n",
       "     'name': 'Bar',\n",
       "     'icon': {'prefix': 'https://ss3.4sqi.net/img/categories_v2/nightlife/pub_',\n",
       "      'suffix': '.png'}},\n",
       "    {'id': 13034,\n",
       "     'name': 'Café',\n",
       "     'icon': {'prefix': 'https://ss3.4sqi.net/img/categories_v2/food/cafe_',\n",
       "      'suffix': '.png'}},\n",
       "    {'id': 13065,\n",
       "     'name': 'Restaurant',\n",
       "     'icon': {'prefix': 'https://ss3.4sqi.net/img/categories_v2/food/default_',\n",
       "      'suffix': '.png'}}],\n",
       "   'chains': [],\n",
       "   'distance': 934,\n",
       "   'geocodes': {'main': {'latitude': 41.39985, 'longitude': 2.179422}},\n",
       "   'link': '/v3/places/5a45f9b5da2e006276d93255',\n",
       "   'location': {'address': 'Carrer de la Diputació, 443',\n",
       "    'admin_region': 'Cataluña',\n",
       "    'country': 'ES',\n",
       "    'cross_street': '',\n",
       "    'formatted_address': 'Carrer de la Diputació, 443, 08013 Barcelona Catalonia',\n",
       "    'locality': 'Barcelona',\n",
       "    'postcode': '08013',\n",
       "    'region': 'Catalonia'},\n",
       "   'name': 'Lilo Cafè',\n",
       "   'related_places': {},\n",
       "   'timezone': 'Europe/Madrid'},\n",
       "  {'fsq_id': '5268026a498eb8401436933e',\n",
       "   'categories': [{'id': 13010,\n",
       "     'name': 'Dive Bar',\n",
       "     'icon': {'prefix': 'https://ss3.4sqi.net/img/categories_v2/nightlife/divebar_',\n",
       "      'suffix': '.png'}},\n",
       "    {'id': 13034,\n",
       "     'name': 'Café',\n",
       "     'icon': {'prefix': 'https://ss3.4sqi.net/img/categories_v2/food/cafe_',\n",
       "      'suffix': '.png'}},\n",
       "    {'id': 13065,\n",
       "     'name': 'Restaurant',\n",
       "     'icon': {'prefix': 'https://ss3.4sqi.net/img/categories_v2/food/default_',\n",
       "      'suffix': '.png'}}],\n",
       "   'chains': [],\n",
       "   'distance': 644,\n",
       "   'geocodes': {'main': {'latitude': 41.398257, 'longitude': 2.182922},\n",
       "    'roof': {'latitude': 41.398257, 'longitude': 2.182922}},\n",
       "   'link': '/v3/places/5268026a498eb8401436933e',\n",
       "   'location': {'address': 'Casp, 192',\n",
       "    'admin_region': 'Cataluña',\n",
       "    'country': 'ES',\n",
       "    'cross_street': 'C. Marina',\n",
       "    'formatted_address': 'Casp, 192 (C. Marina), 08013 Barcelona Catalonia',\n",
       "    'locality': 'Barcelona',\n",
       "    'postcode': '08013',\n",
       "    'region': 'Catalonia'},\n",
       "   'name': 'El Cafè Blau',\n",
       "   'related_places': {},\n",
       "   'timezone': 'Europe/Madrid'},\n",
       "  {'fsq_id': '555f2357498ee6528074710b',\n",
       "   'categories': [{'id': 13034,\n",
       "     'name': 'Café',\n",
       "     'icon': {'prefix': 'https://ss3.4sqi.net/img/categories_v2/food/cafe_',\n",
       "      'suffix': '.png'}},\n",
       "    {'id': 13035,\n",
       "     'name': 'Coffee Shop',\n",
       "     'icon': {'prefix': 'https://ss3.4sqi.net/img/categories_v2/food/coffeeshop_',\n",
       "      'suffix': '.png'}},\n",
       "    {'id': 13065,\n",
       "     'name': 'Restaurant',\n",
       "     'icon': {'prefix': 'https://ss3.4sqi.net/img/categories_v2/food/default_',\n",
       "      'suffix': '.png'}}],\n",
       "   'chains': [],\n",
       "   'distance': 409,\n",
       "   'geocodes': {'drop_off': {'latitude': 41.398843, 'longitude': 2.195152},\n",
       "    'main': {'latitude': 41.398735, 'longitude': 2.195069},\n",
       "    'roof': {'latitude': 41.398735, 'longitude': 2.195069}},\n",
       "   'link': '/v3/places/555f2357498ee6528074710b',\n",
       "   'location': {'address': 'Carrer Badajoz, 95',\n",
       "    'admin_region': 'Cataluña',\n",
       "    'country': 'ES',\n",
       "    'cross_street': '',\n",
       "    'formatted_address': 'Carrer Badajoz, 95, 08005 Barcelona Catalonia',\n",
       "    'locality': 'Barcelona',\n",
       "    'postcode': '08005',\n",
       "    'region': 'Catalonia'},\n",
       "   'name': 'Espai Joliu',\n",
       "   'related_places': {},\n",
       "   'timezone': 'Europe/Madrid'},\n",
       "  {'fsq_id': '4cac6c632776b60c043a510d',\n",
       "   'categories': [{'id': 13034,\n",
       "     'name': 'Café',\n",
       "     'icon': {'prefix': 'https://ss3.4sqi.net/img/categories_v2/food/cafe_',\n",
       "      'suffix': '.png'}},\n",
       "    {'id': 13065,\n",
       "     'name': 'Restaurant',\n",
       "     'icon': {'prefix': 'https://ss3.4sqi.net/img/categories_v2/food/default_',\n",
       "      'suffix': '.png'}}],\n",
       "   'chains': [],\n",
       "   'distance': 363,\n",
       "   'geocodes': {'main': {'latitude': 41.395408, 'longitude': 2.187203},\n",
       "    'roof': {'latitude': 41.395408, 'longitude': 2.187203}},\n",
       "   'link': '/v3/places/4cac6c632776b60c043a510d',\n",
       "   'location': {'address': 'Avenida Meridiana, 34',\n",
       "    'admin_region': 'Cataluña',\n",
       "    'country': 'ES',\n",
       "    'cross_street': '',\n",
       "    'formatted_address': 'Avenida Meridiana, 34, 08018 Barcelona Catalonia',\n",
       "    'locality': 'Barcelona',\n",
       "    'postcode': '08018',\n",
       "    'region': 'Catalonia'},\n",
       "   'name': 'Classic Bar Cafeteria',\n",
       "   'related_places': {},\n",
       "   'timezone': 'Europe/Madrid'},\n",
       "  {'fsq_id': '4b6a824af964a52035d72be3',\n",
       "   'categories': [{'id': 13028,\n",
       "     'name': 'Breakfast Spot',\n",
       "     'icon': {'prefix': 'https://ss3.4sqi.net/img/categories_v2/food/breakfast_',\n",
       "      'suffix': '.png'}}],\n",
       "   'chains': [],\n",
       "   'distance': 216,\n",
       "   'geocodes': {'main': {'latitude': 41.399158, 'longitude': 2.188578},\n",
       "    'roof': {'latitude': 41.399158, 'longitude': 2.188578}},\n",
       "   'link': '/v3/places/4b6a824af964a52035d72be3',\n",
       "   'location': {'address': 'Tànger, 24',\n",
       "    'admin_region': 'Cataluña',\n",
       "    'country': 'ES',\n",
       "    'cross_street': '',\n",
       "    'formatted_address': 'Tànger, 24, 08018 Barcelona Catalonia',\n",
       "    'locality': 'Barcelona',\n",
       "    'postcode': '08018',\n",
       "    'region': 'Catalonia'},\n",
       "   'name': \"L'Estoneta\",\n",
       "   'related_places': {},\n",
       "   'timezone': 'Europe/Madrid'},\n",
       "  {'fsq_id': '5469e572498edc6b88d8c1fd',\n",
       "   'categories': [{'id': 13028,\n",
       "     'name': 'Breakfast Spot',\n",
       "     'icon': {'prefix': 'https://ss3.4sqi.net/img/categories_v2/food/breakfast_',\n",
       "      'suffix': '.png'}}],\n",
       "   'chains': [],\n",
       "   'distance': 678,\n",
       "   'geocodes': {'main': {'latitude': 41.39836, 'longitude': 2.198345},\n",
       "    'roof': {'latitude': 41.39836, 'longitude': 2.198345}},\n",
       "   'link': '/v3/places/5469e572498edc6b88d8c1fd',\n",
       "   'location': {'address': 'Ciutat de Granada, 44',\n",
       "    'admin_region': 'Cataluña',\n",
       "    'country': 'ES',\n",
       "    'cross_street': 'C. de Llull',\n",
       "    'formatted_address': 'Ciutat de Granada, 44 (C. de Llull), 08005 Barcelona Catalonia',\n",
       "    'locality': 'Barcelona',\n",
       "    'postcode': '08005',\n",
       "    'region': 'Catalonia'},\n",
       "   'name': 'Can Dendê',\n",
       "   'related_places': {},\n",
       "   'timezone': 'Europe/Madrid'},\n",
       "  {'fsq_id': '5af2b83ee7a237002c007e3c',\n",
       "   'categories': [{'id': 13028,\n",
       "     'name': 'Breakfast Spot',\n",
       "     'icon': {'prefix': 'https://ss3.4sqi.net/img/categories_v2/food/breakfast_',\n",
       "      'suffix': '.png'}}],\n",
       "   'chains': [],\n",
       "   'distance': 771,\n",
       "   'geocodes': {'drop_off': {'latitude': 41.402429, 'longitude': 2.197447},\n",
       "    'main': {'latitude': 41.402328, 'longitude': 2.197571},\n",
       "    'roof': {'latitude': 41.402328, 'longitude': 2.197571}},\n",
       "   'link': '/v3/places/5af2b83ee7a237002c007e3c',\n",
       "   'location': {'address': 'Carrer de Pere IV, 168',\n",
       "    'admin_region': 'Cataluña',\n",
       "    'country': 'ES',\n",
       "    'cross_street': 'C. Llacuna',\n",
       "    'formatted_address': 'Carrer de Pere IV, 168 (C. Llacuna), 08005 Barcelona Catalonia',\n",
       "    'locality': 'Barcelona',\n",
       "    'postcode': '08005',\n",
       "    'region': 'Catalonia'},\n",
       "   'name': 'Little Fern',\n",
       "   'related_places': {},\n",
       "   'timezone': 'Europe/Madrid'},\n",
       "  {'fsq_id': '4f7176cde4b0d1b3a40615ff',\n",
       "   'categories': [{'id': 13034,\n",
       "     'name': 'Café',\n",
       "     'icon': {'prefix': 'https://ss3.4sqi.net/img/categories_v2/food/cafe_',\n",
       "      'suffix': '.png'}},\n",
       "    {'id': 13039,\n",
       "     'name': 'Deli',\n",
       "     'icon': {'prefix': 'https://ss3.4sqi.net/img/categories_v2/food/deli_',\n",
       "      'suffix': '.png'}},\n",
       "    {'id': 13079,\n",
       "     'name': 'Brazilian Restaurant',\n",
       "     'icon': {'prefix': 'https://ss3.4sqi.net/img/categories_v2/food/argentinian_',\n",
       "      'suffix': '.png'}}],\n",
       "   'chains': [],\n",
       "   'distance': 726,\n",
       "   'geocodes': {'main': {'latitude': 41.392081, 'longitude': 2.185666},\n",
       "    'roof': {'latitude': 41.392081, 'longitude': 2.185666}},\n",
       "   'link': '/v3/places/4f7176cde4b0d1b3a40615ff',\n",
       "   'location': {'address': 'Lington, 17',\n",
       "    'admin_region': 'Cataluña',\n",
       "    'country': 'ES',\n",
       "    'cross_street': 'Wellington',\n",
       "    'formatted_address': 'Lington, 17 (Wellington), 08018 Barcelona Catalonia',\n",
       "    'locality': 'Barcelona',\n",
       "    'postcode': '08018',\n",
       "    'region': 'Catalonia'},\n",
       "   'name': 'Santa Fe',\n",
       "   'related_places': {},\n",
       "   'timezone': 'Europe/Madrid'},\n",
       "  {'fsq_id': '4dac0e1b6a2303012f2fd206',\n",
       "   'categories': [{'id': 13034,\n",
       "     'name': 'Café',\n",
       "     'icon': {'prefix': 'https://ss3.4sqi.net/img/categories_v2/food/cafe_',\n",
       "      'suffix': '.png'}}],\n",
       "   'chains': [],\n",
       "   'distance': 571,\n",
       "   'geocodes': {'drop_off': {'latitude': 41.396081, 'longitude': 2.196541},\n",
       "    'main': {'latitude': 41.396561, 'longitude': 2.196905}},\n",
       "   'link': '/v3/places/4dac0e1b6a2303012f2fd206',\n",
       "   'location': {'address': \"Carrer D'Àvila, 48\",\n",
       "    'admin_region': 'Cataluña',\n",
       "    'country': 'ES',\n",
       "    'cross_street': '',\n",
       "    'formatted_address': \"Carrer D'Àvila, 48, 08005 Barcelona Catalonia\",\n",
       "    'locality': 'Barcelona',\n",
       "    'postcode': '08005',\n",
       "    'region': 'Catalonia'},\n",
       "   'name': 'Espai Cafè - Edifici Miete',\n",
       "   'related_places': {},\n",
       "   'timezone': 'Europe/Madrid'}],\n",
       " 'context': {'geo_bounds': {'circle': {'center': {'latitude': 41.3977421,\n",
       "     'longitude': 2.1902493},\n",
       "    'radius': 1000}}}}"
      ]
     },
     "execution_count": 35,
     "metadata": {},
     "output_type": "execute_result"
    }
   ],
   "source": [
    "response.json()"
   ]
  },
  {
   "cell_type": "markdown",
   "id": "941b5dbf",
   "metadata": {},
   "source": [
    "# 3. Now get the 5 CLOSEST coffe places. Make use of params: limit, near?"
   ]
  },
  {
   "cell_type": "code",
   "execution_count": 36,
   "id": "fda8ddff",
   "metadata": {},
   "outputs": [
    {
     "data": {
      "text/plain": [
       "<Response [200]>"
      ]
     },
     "execution_count": 36,
     "metadata": {},
     "output_type": "execute_result"
    }
   ],
   "source": [
    "url = 'https://api.foursquare.com/v3/places/search?query=cafe&near=%22Madrid%2C%20Spain%22&limit=5'\n",
    "\n",
    "headers = {\n",
    "    \"accept\": \"application/json\",\n",
    "    \"Authorization\": token\n",
    "}\n",
    "\n",
    "response = requests.get(url, headers=headers)\n",
    "response"
   ]
  },
  {
   "cell_type": "code",
   "execution_count": 37,
   "id": "220e58c3",
   "metadata": {},
   "outputs": [
    {
     "data": {
      "text/plain": [
       "{'results': [{'fsq_id': '520a4f7011d2a16be9843206',\n",
       "   'categories': [{'id': 13034,\n",
       "     'name': 'Café',\n",
       "     'icon': {'prefix': 'https://ss3.4sqi.net/img/categories_v2/food/cafe_',\n",
       "      'suffix': '.png'}},\n",
       "    {'id': 13035,\n",
       "     'name': 'Coffee Shop',\n",
       "     'icon': {'prefix': 'https://ss3.4sqi.net/img/categories_v2/food/coffeeshop_',\n",
       "      'suffix': '.png'}},\n",
       "    {'id': 13065,\n",
       "     'name': 'Restaurant',\n",
       "     'icon': {'prefix': 'https://ss3.4sqi.net/img/categories_v2/food/default_',\n",
       "      'suffix': '.png'}}],\n",
       "   'chains': [],\n",
       "   'distance': 862,\n",
       "   'geocodes': {'drop_off': {'latitude': 40.423827, 'longitude': -3.705543},\n",
       "    'main': {'latitude': 40.423876, 'longitude': -3.705524},\n",
       "    'roof': {'latitude': 40.423876, 'longitude': -3.705524}},\n",
       "   'link': '/v3/places/520a4f7011d2a16be9843206',\n",
       "   'location': {'address': 'Calle del Pez, 20',\n",
       "    'admin_region': 'Comunidad de Madrid',\n",
       "    'country': 'ES',\n",
       "    'cross_street': '',\n",
       "    'formatted_address': 'Calle del Pez, 20, 28004 Madrid Madrid',\n",
       "    'locality': 'Madrid',\n",
       "    'postcode': '28004',\n",
       "    'region': 'Madrid'},\n",
       "   'name': 'HanSo Café',\n",
       "   'related_places': {},\n",
       "   'timezone': 'Europe/Madrid'},\n",
       "  {'fsq_id': '4b48e639f964a520695c26e3',\n",
       "   'categories': [{'id': 13003,\n",
       "     'name': 'Bar',\n",
       "     'icon': {'prefix': 'https://ss3.4sqi.net/img/categories_v2/nightlife/pub_',\n",
       "      'suffix': '.png'}},\n",
       "    {'id': 13034,\n",
       "     'name': 'Café',\n",
       "     'icon': {'prefix': 'https://ss3.4sqi.net/img/categories_v2/food/cafe_',\n",
       "      'suffix': '.png'}},\n",
       "    {'id': 13065,\n",
       "     'name': 'Restaurant',\n",
       "     'icon': {'prefix': 'https://ss3.4sqi.net/img/categories_v2/food/default_',\n",
       "      'suffix': '.png'}}],\n",
       "   'chains': [],\n",
       "   'distance': 624,\n",
       "   'geocodes': {'main': {'latitude': 40.42214, 'longitude': -3.702504},\n",
       "    'roof': {'latitude': 40.42214, 'longitude': -3.702504}},\n",
       "   'link': '/v3/places/4b48e639f964a520695c26e3',\n",
       "   'location': {'address': 'Calle Puebla, 8',\n",
       "    'admin_region': 'Comunidad de Madrid',\n",
       "    'country': 'ES',\n",
       "    'cross_street': 'Calle Del Barco',\n",
       "    'formatted_address': 'Calle Puebla, 8 (Calle Del Barco), 28004 Madrid Madrid',\n",
       "    'locality': 'Madrid',\n",
       "    'postcode': '28004',\n",
       "    'region': 'Madrid'},\n",
       "   'name': 'Café de la Luz',\n",
       "   'related_places': {},\n",
       "   'timezone': 'Europe/Madrid'},\n",
       "  {'fsq_id': '5a636f70ea1e44544895052e',\n",
       "   'categories': [{'id': 13034,\n",
       "     'name': 'Café',\n",
       "     'icon': {'prefix': 'https://ss3.4sqi.net/img/categories_v2/food/cafe_',\n",
       "      'suffix': '.png'}}],\n",
       "   'chains': [],\n",
       "   'distance': 833,\n",
       "   'geocodes': {'drop_off': {'latitude': 40.411808, 'longitude': -3.694821},\n",
       "    'main': {'latitude': 40.411855, 'longitude': -3.694819},\n",
       "    'roof': {'latitude': 40.411855, 'longitude': -3.694819}},\n",
       "   'link': '/v3/places/5a636f70ea1e44544895052e',\n",
       "   'location': {'address': 'Calle Verónica, 9',\n",
       "    'admin_region': 'Comunidad de Madrid',\n",
       "    'country': 'ES',\n",
       "    'cross_street': '',\n",
       "    'formatted_address': 'Calle Verónica, 9, 28014 Madrid Madrid',\n",
       "    'locality': 'Madrid',\n",
       "    'postcode': '28014',\n",
       "    'region': 'Madrid'},\n",
       "   'name': 'Acid Café',\n",
       "   'related_places': {},\n",
       "   'timezone': 'Europe/Madrid'},\n",
       "  {'fsq_id': '4ea5d120754afc1baa0d5ab9',\n",
       "   'categories': [{'id': 13010,\n",
       "     'name': 'Dive Bar',\n",
       "     'icon': {'prefix': 'https://ss3.4sqi.net/img/categories_v2/nightlife/divebar_',\n",
       "      'suffix': '.png'}},\n",
       "    {'id': 13034,\n",
       "     'name': 'Café',\n",
       "     'icon': {'prefix': 'https://ss3.4sqi.net/img/categories_v2/food/cafe_',\n",
       "      'suffix': '.png'}},\n",
       "    {'id': 13065,\n",
       "     'name': 'Restaurant',\n",
       "     'icon': {'prefix': 'https://ss3.4sqi.net/img/categories_v2/food/default_',\n",
       "      'suffix': '.png'}}],\n",
       "   'chains': [],\n",
       "   'distance': 929,\n",
       "   'geocodes': {'drop_off': {'latitude': 40.411025, 'longitude': -3.694242},\n",
       "    'main': {'latitude': 40.411059, 'longitude': -3.694236},\n",
       "    'roof': {'latitude': 40.411059, 'longitude': -3.694236}},\n",
       "   'link': '/v3/places/4ea5d120754afc1baa0d5ab9',\n",
       "   'location': {'address': 'Calle Almadén, 15',\n",
       "    'admin_region': 'Comunidad de Madrid',\n",
       "    'country': 'ES',\n",
       "    'cross_street': 'C. San Pedro',\n",
       "    'formatted_address': 'Calle Almadén, 15 (C. San Pedro), 28014 Madrid Madrid',\n",
       "    'locality': 'Madrid',\n",
       "    'postcode': '28014',\n",
       "    'region': 'Madrid'},\n",
       "   'name': 'Matilda Café Cantina',\n",
       "   'related_places': {},\n",
       "   'timezone': 'Europe/Madrid'},\n",
       "  {'fsq_id': '4b890fc7f964a520a01a32e3',\n",
       "   'categories': [{'id': 13028,\n",
       "     'name': 'Breakfast Spot',\n",
       "     'icon': {'prefix': 'https://ss3.4sqi.net/img/categories_v2/food/breakfast_',\n",
       "      'suffix': '.png'}}],\n",
       "   'chains': [],\n",
       "   'distance': 775,\n",
       "   'geocodes': {'drop_off': {'latitude': 40.410165, 'longitude': -3.706448},\n",
       "    'main': {'latitude': 40.410231, 'longitude': -3.706373},\n",
       "    'roof': {'latitude': 40.410231, 'longitude': -3.706373}},\n",
       "   'link': '/v3/places/4b890fc7f964a520a01a32e3',\n",
       "   'location': {'address': 'Calle Embajadores, 9',\n",
       "    'admin_region': 'Comunidad de Madrid',\n",
       "    'country': 'ES',\n",
       "    'formatted_address': 'Calle Embajadores, 9, Madrid Madrid',\n",
       "    'locality': 'Madrid',\n",
       "    'region': 'Madrid'},\n",
       "   'name': 'Café Pavón',\n",
       "   'related_places': {},\n",
       "   'timezone': 'Europe/Madrid'}],\n",
       " 'context': {'geo_bounds': {'circle': {'center': {'latitude': 40.4165,\n",
       "     'longitude': -3.70256},\n",
       "    'radius': 17929}}}}"
      ]
     },
     "execution_count": 37,
     "metadata": {},
     "output_type": "execute_result"
    }
   ],
   "source": [
    "response.json()"
   ]
  },
  {
   "cell_type": "markdown",
   "id": "d19904e8",
   "metadata": {},
   "source": [
    "# 4. Define a function that returns name, lat, long for starbucks OR restaurants AND for any given location"
   ]
  },
  {
   "cell_type": "code",
   "execution_count": 55,
   "id": "1fad5153",
   "metadata": {},
   "outputs": [],
   "source": [
    "def foursquare_places (query, lon, lat):\n",
    " \n",
    "    url=f'https://api.foursquare.com/v3/places/search?query={query}&ll={lon}%2C{lat}&limit=5'\n",
    "    headers = {\n",
    "        \"accept\": \"application/json\",\n",
    "        \"Authorization\": token\n",
    "    }\n",
    "\n",
    "    response = requests.get(url, headers=headers).json()\n",
    "    return response"
   ]
  },
  {
   "cell_type": "code",
   "execution_count": 56,
   "id": "b1034863",
   "metadata": {},
   "outputs": [
    {
     "data": {
      "text/plain": [
       "<Response [200]>"
      ]
     },
     "execution_count": 56,
     "metadata": {},
     "output_type": "execute_result"
    }
   ],
   "source": [
    "response"
   ]
  },
  {
   "cell_type": "code",
   "execution_count": 44,
   "id": "c2b709ed",
   "metadata": {},
   "outputs": [
    {
     "data": {
      "text/plain": [
       "{'results': [],\n",
       " 'context': {'geo_bounds': {'circle': {'center': {'latitude': 40.2,\n",
       "     'longitude': 2.2},\n",
       "    'radius': 22000}}}}"
      ]
     },
     "execution_count": 44,
     "metadata": {},
     "output_type": "execute_result"
    }
   ],
   "source": [
    "foursquare_places (\"starbucks\", \"40.20\", \"02.20\")"
   ]
  },
  {
   "cell_type": "code",
   "execution_count": null,
   "id": "3dbd2a83",
   "metadata": {},
   "outputs": [],
   "source": []
  },
  {
   "cell_type": "code",
   "execution_count": null,
   "id": "38a80df9",
   "metadata": {},
   "outputs": [],
   "source": []
  },
  {
   "cell_type": "markdown",
   "id": "1836c1a1",
   "metadata": {},
   "source": [
    "# 5. Export it into data folder as a json: `data/coffe_shops.json`"
   ]
  },
  {
   "cell_type": "code",
   "execution_count": 60,
   "id": "d81e2d80",
   "metadata": {},
   "outputs": [
    {
     "name": "stdout",
     "output_type": "stream",
     "text": [
      "README.md\n",
      "challenge-1.ipynb\n",
      "challenge-2.ipynb\n",
      "challenge-3.ipynb\n",
      "data\n"
     ]
    }
   ],
   "source": [
    "! ls"
   ]
  },
  {
   "cell_type": "code",
   "execution_count": null,
   "id": "6882da6e",
   "metadata": {},
   "outputs": [],
   "source": []
  },
  {
   "cell_type": "code",
   "execution_count": 59,
   "id": "7ac5f2a8",
   "metadata": {},
   "outputs": [],
   "source": [
    "with open(\"data/coffe_shops.json\", \"w\") as f:\n",
    "    json.dump(new_list, f)"
   ]
  },
  {
   "cell_type": "markdown",
   "id": "2d77e99d",
   "metadata": {},
   "source": [
    "# BONUS: load it into MongoDB in a collection named \"ironcoffee\" using pymongo"
   ]
  },
  {
   "cell_type": "code",
   "execution_count": null,
   "id": "85b94955",
   "metadata": {},
   "outputs": [],
   "source": [
    "# your code here"
   ]
  }
 ],
 "metadata": {
  "kernelspec": {
   "display_name": "ironhack",
   "language": "python",
   "name": "ironhack"
  },
  "language_info": {
   "codemirror_mode": {
    "name": "ipython",
    "version": 3
   },
   "file_extension": ".py",
   "mimetype": "text/x-python",
   "name": "python",
   "nbconvert_exporter": "python",
   "pygments_lexer": "ipython3",
   "version": "3.10.9"
  },
  "toc": {
   "base_numbering": 1,
   "nav_menu": {},
   "number_sections": true,
   "sideBar": true,
   "skip_h1_title": false,
   "title_cell": "Table of Contents",
   "title_sidebar": "Contents",
   "toc_cell": false,
   "toc_position": {},
   "toc_section_display": true,
   "toc_window_display": true
  }
 },
 "nbformat": 4,
 "nbformat_minor": 5
}
